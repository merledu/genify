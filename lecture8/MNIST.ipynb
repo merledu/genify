{
  "nbformat": 4,
  "nbformat_minor": 0,
  "metadata": {
    "colab": {
      "provenance": []
    },
    "kernelspec": {
      "name": "python3",
      "display_name": "Python 3"
    },
    "language_info": {
      "name": "python"
    }
  },
  "cells": [
    {
      "cell_type": "code",
      "execution_count": 14,
      "metadata": {
        "id": "KPd0137kyqMI"
      },
      "outputs": [],
      "source": [
        "import numpy as np\n",
        "import matplotlib.pyplot as plt\n",
        "from tensorflow.keras.models import Sequential\n",
        "from tensorflow.keras.layers import Dense\n",
        "from tensorflow.keras.datasets import mnist\n",
        "from tensorflow.keras.utils import to_categorical\n",
        "from PIL import Image\n",
        "import os"
      ]
    },
    {
      "cell_type": "code",
      "source": [
        "# Load the MNIST dataset\n",
        "(X_train, y_train), (X_test, y_test) = mnist.load_data()"
      ],
      "metadata": {
        "id": "rlZG6ySJy7Ao"
      },
      "execution_count": 15,
      "outputs": []
    },
    {
      "cell_type": "code",
      "source": [
        "# Preprocess the data\n",
        "# Normalize pixel values to [0, 1]\n",
        "X_train = X_train.astype('float32') / 255.0\n",
        "X_test = X_test.astype('float32') / 255.0\n",
        "\n",
        "# Reshape images to 1D arrays (28x28 = 784 features)\n",
        "X_train = X_train.reshape(-1, 28*28)\n",
        "X_test = X_test.reshape(-1, 28*28)\n",
        "\n",
        "# Convert labels to one-hot encoded format for multi-class classification\n",
        "y_train = to_categorical(y_train, 10)\n",
        "y_test = to_categorical(y_test, 10)"
      ],
      "metadata": {
        "id": "GjDFnipWzLkW"
      },
      "execution_count": 16,
      "outputs": []
    },
    {
      "cell_type": "code",
      "source": [
        "# Build the neural network\n",
        "model = Sequential()\n",
        "model.add(Dense(128, input_dim=784, activation='relu'))  # Hidden layer, input_dim=784 (28x28)\n",
        "model.add(Dense(64, activation='relu'))  # Additional hidden layer\n",
        "model.add(Dense(10, activation='softmax'))  # Output layer for 10 classes"
      ],
      "metadata": {
        "colab": {
          "base_uri": "https://localhost:8080/"
        },
        "id": "GqPsTYX2zM9j",
        "outputId": "bb9fecf6-f70b-4e04-fd1e-1b05f990bdeb"
      },
      "execution_count": 17,
      "outputs": [
        {
          "output_type": "stream",
          "name": "stderr",
          "text": [
            "/usr/local/lib/python3.11/dist-packages/keras/src/layers/core/dense.py:87: UserWarning: Do not pass an `input_shape`/`input_dim` argument to a layer. When using Sequential models, prefer using an `Input(shape)` object as the first layer in the model instead.\n",
            "  super().__init__(activity_regularizer=activity_regularizer, **kwargs)\n"
          ]
        }
      ]
    },
    {
      "cell_type": "code",
      "source": [
        "# Compile the model\n",
        "model.compile(loss='categorical_crossentropy', optimizer='adam', metrics=['accuracy'])"
      ],
      "metadata": {
        "id": "FpLCIojXzOd-"
      },
      "execution_count": 18,
      "outputs": []
    },
    {
      "cell_type": "code",
      "source": [
        "# Train the model\n",
        "model.fit(X_train, y_train, epochs=10, batch_size=32, verbose=1, validation_split=0.2)"
      ],
      "metadata": {
        "colab": {
          "base_uri": "https://localhost:8080/"
        },
        "id": "Ey_HWv_pzQQE",
        "outputId": "06cc03f9-725d-449a-af07-4c856d3bc689"
      },
      "execution_count": 19,
      "outputs": [
        {
          "output_type": "stream",
          "name": "stdout",
          "text": [
            "Epoch 1/10\n",
            "\u001b[1m1500/1500\u001b[0m \u001b[32m━━━━━━━━━━━━━━━━━━━━\u001b[0m\u001b[37m\u001b[0m \u001b[1m7s\u001b[0m 3ms/step - accuracy: 0.8660 - loss: 0.4654 - val_accuracy: 0.9587 - val_loss: 0.1393\n",
            "Epoch 2/10\n",
            "\u001b[1m1500/1500\u001b[0m \u001b[32m━━━━━━━━━━━━━━━━━━━━\u001b[0m\u001b[37m\u001b[0m \u001b[1m6s\u001b[0m 4ms/step - accuracy: 0.9626 - loss: 0.1204 - val_accuracy: 0.9647 - val_loss: 0.1180\n",
            "Epoch 3/10\n",
            "\u001b[1m1500/1500\u001b[0m \u001b[32m━━━━━━━━━━━━━━━━━━━━\u001b[0m\u001b[37m\u001b[0m \u001b[1m5s\u001b[0m 3ms/step - accuracy: 0.9776 - loss: 0.0731 - val_accuracy: 0.9698 - val_loss: 0.0997\n",
            "Epoch 4/10\n",
            "\u001b[1m1500/1500\u001b[0m \u001b[32m━━━━━━━━━━━━━━━━━━━━\u001b[0m\u001b[37m\u001b[0m \u001b[1m6s\u001b[0m 4ms/step - accuracy: 0.9845 - loss: 0.0525 - val_accuracy: 0.9717 - val_loss: 0.0981\n",
            "Epoch 5/10\n",
            "\u001b[1m1500/1500\u001b[0m \u001b[32m━━━━━━━━━━━━━━━━━━━━\u001b[0m\u001b[37m\u001b[0m \u001b[1m9s\u001b[0m 3ms/step - accuracy: 0.9855 - loss: 0.0456 - val_accuracy: 0.9732 - val_loss: 0.0952\n",
            "Epoch 6/10\n",
            "\u001b[1m1500/1500\u001b[0m \u001b[32m━━━━━━━━━━━━━━━━━━━━\u001b[0m\u001b[37m\u001b[0m \u001b[1m6s\u001b[0m 4ms/step - accuracy: 0.9889 - loss: 0.0343 - val_accuracy: 0.9734 - val_loss: 0.0897\n",
            "Epoch 7/10\n",
            "\u001b[1m1500/1500\u001b[0m \u001b[32m━━━━━━━━━━━━━━━━━━━━\u001b[0m\u001b[37m\u001b[0m \u001b[1m5s\u001b[0m 3ms/step - accuracy: 0.9916 - loss: 0.0271 - val_accuracy: 0.9749 - val_loss: 0.1033\n",
            "Epoch 8/10\n",
            "\u001b[1m1500/1500\u001b[0m \u001b[32m━━━━━━━━━━━━━━━━━━━━\u001b[0m\u001b[37m\u001b[0m \u001b[1m7s\u001b[0m 4ms/step - accuracy: 0.9925 - loss: 0.0224 - val_accuracy: 0.9714 - val_loss: 0.1131\n",
            "Epoch 9/10\n",
            "\u001b[1m1500/1500\u001b[0m \u001b[32m━━━━━━━━━━━━━━━━━━━━\u001b[0m\u001b[37m\u001b[0m \u001b[1m5s\u001b[0m 3ms/step - accuracy: 0.9931 - loss: 0.0200 - val_accuracy: 0.9727 - val_loss: 0.1180\n",
            "Epoch 10/10\n",
            "\u001b[1m1500/1500\u001b[0m \u001b[32m━━━━━━━━━━━━━━━━━━━━\u001b[0m\u001b[37m\u001b[0m \u001b[1m6s\u001b[0m 4ms/step - accuracy: 0.9943 - loss: 0.0166 - val_accuracy: 0.9747 - val_loss: 0.1063\n"
          ]
        },
        {
          "output_type": "execute_result",
          "data": {
            "text/plain": [
              "<keras.src.callbacks.history.History at 0x7ce7b86fd3d0>"
            ]
          },
          "metadata": {},
          "execution_count": 19
        }
      ]
    },
    {
      "cell_type": "code",
      "source": [
        "# Evaluate the model on test data\n",
        "loss, accuracy = model.evaluate(X_test, y_test)\n",
        "print(f'Test Accuracy: {accuracy:.4f}')"
      ],
      "metadata": {
        "colab": {
          "base_uri": "https://localhost:8080/"
        },
        "id": "ddD1FeEvzSBj",
        "outputId": "8e5f7303-3ef3-4fff-e243-a1e4e70bfaac"
      },
      "execution_count": 20,
      "outputs": [
        {
          "output_type": "stream",
          "name": "stdout",
          "text": [
            "\u001b[1m313/313\u001b[0m \u001b[32m━━━━━━━━━━━━━━━━━━━━\u001b[0m\u001b[37m\u001b[0m \u001b[1m1s\u001b[0m 2ms/step - accuracy: 0.9716 - loss: 0.1066\n",
            "Test Accuracy: 0.9769\n"
          ]
        }
      ]
    },
    {
      "cell_type": "code",
      "source": [
        "# Make predictions on a few test samples\n",
        "num_samples = 5\n",
        "test_samples = X_test[:num_samples]\n",
        "true_labels = np.argmax(y_test[:num_samples], axis=1)\n",
        "predictions = model.predict(test_samples)\n",
        "predicted_labels = np.argmax(predictions, axis=1)\n",
        "\n",
        "# Visualize predictions\n",
        "plt.figure(figsize=(15, 3))\n",
        "for i in range(num_samples):\n",
        "    plt.subplot(1, num_samples, i+1)\n",
        "    plt.imshow(test_samples[i].reshape(28, 28), cmap='gray')\n",
        "    plt.title(f'Pred: {predicted_labels[i]}\\nTrue: {true_labels[i]}')\n",
        "    plt.axis('off')\n",
        "plt.show()"
      ],
      "metadata": {
        "colab": {
          "base_uri": "https://localhost:8080/",
          "height": 299
        },
        "id": "aw-Sapn-zkQ-",
        "outputId": "8ef805f8-5a68-4ea4-80d6-56b42f635b4b"
      },
      "execution_count": 21,
      "outputs": [
        {
          "output_type": "stream",
          "name": "stdout",
          "text": [
            "\u001b[1m1/1\u001b[0m \u001b[32m━━━━━━━━━━━━━━━━━━━━\u001b[0m\u001b[37m\u001b[0m \u001b[1m0s\u001b[0m 61ms/step\n"
          ]
        },
        {
          "output_type": "display_data",
          "data": {
            "text/plain": [
              "<Figure size 1500x300 with 5 Axes>"
            ],
            "image/png": "[encoded data removed]"
          },
          "metadata": {}
        }
      ]
    },
    {
      "cell_type": "code",
      "source": [
        "# Function to preprocess and predict on a custom image\n",
        "def predict_custom_image(image_path):\n",
        "    # Load the image\n",
        "    try:\n",
        "        img = Image.open(image_path)  # Load image\n",
        "        img = img.convert('L')  # Convert to grayscale\n",
        "        img = img.resize((28, 28))  # Resize to 28x28 pixels\n",
        "    except Exception as e:\n",
        "        print(f\"Error loading or processing image: {e}\")\n",
        "        return None, None, None\n",
        "\n",
        "    # Convert to numpy array and normalize\n",
        "    img_array = np.array(img).astype('float32') / 255.0\n",
        "\n",
        "    # Invert colors if necessary (MNIST has white digits on black background)\n",
        "    if img_array.mean() > 0.5:  # Heuristic: light background\n",
        "        img_array = 1.0 - img_array\n",
        "\n",
        "    # Reshape for the model (1, 784)\n",
        "    img_array = img_array.reshape(1, 28*28)\n",
        "\n",
        "    # Make prediction\n",
        "    prediction = model.predict(img_array)\n",
        "    predicted_label = np.argmax(prediction, axis=1)[0]\n",
        "    confidence = np.max(prediction)\n",
        "\n",
        "    return img_array, predicted_label, confidence"
      ],
      "metadata": {
        "id": "aYwhW6bWzmQb"
      },
      "execution_count": 22,
      "outputs": []
    },
    {
      "cell_type": "code",
      "source": [
        "image_path = 'six.png'  # Replace with actual image path\n",
        "if os.path.exists(image_path):\n",
        "    img_array, predicted_label, confidence = predict_custom_image(image_path)\n",
        "    if img_array is not None:\n",
        "        # Visualize the input image and prediction\n",
        "        plt.figure(figsize=(5, 5))\n",
        "        plt.imshow(img_array.reshape(28, 28), cmap='gray')\n",
        "        plt.title(f'Predicted Digit: {predicted_label}\\nConfidence: {confidence:.4f}')\n",
        "        plt.axis('off')\n",
        "        plt.show()\n",
        "else:\n",
        "    print(f\"Image file '{image_path}' not found. Please provide a valid image path.\")\n",
        "    print(\"Instructions: Download or create an image of a handwritten digit (0-9).\")\n",
        "    print(\"The image will be converted to 28x28 pixels and grayscale automatically.\")\n",
        "    print(\"For best results, use a white digit on a black background (like MNIST).\")"
      ],
      "metadata": {
        "colab": {
          "base_uri": "https://localhost:8080/",
          "height": 484
        },
        "id": "NWsPj3lozyHe",
        "outputId": "40747a46-c6f6-4123-bfaa-b285fdfe6411"
      },
      "execution_count": 23,
      "outputs": [
        {
          "output_type": "stream",
          "name": "stdout",
          "text": [
            "\u001b[1m1/1\u001b[0m \u001b[32m━━━━━━━━━━━━━━━━━━━━\u001b[0m\u001b[37m\u001b[0m \u001b[1m0s\u001b[0m 65ms/step\n"
          ]
        },
        {
          "output_type": "display_data",
          "data": {
            "text/plain": [
              "<Figure size 500x500 with 1 Axes>"
            ],
            "image/png": "[encoded data removed]"
          },
          "metadata": {}
        }
      ]
    },
    {
      "cell_type": "code",
      "source": [],
      "metadata": {
        "id": "Pl4BXTv-z5Wc"
      },
      "execution_count": null,
      "outputs": []
    }
  ]
}