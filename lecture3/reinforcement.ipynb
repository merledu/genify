{
 "cells": [
  {
   "cell_type": "code",
   "execution_count": 1,
   "metadata": {},
   "outputs": [
    {
     "name": "stdout",
     "output_type": "stream",
     "text": [
      "Requirement already satisfied: gym in ./.venv/lib/python3.10/site-packages (0.26.2)\n",
      "Requirement already satisfied: cloudpickle>=1.2.0 in ./.venv/lib/python3.10/site-packages (from gym) (3.1.1)\n",
      "Requirement already satisfied: numpy>=1.18.0 in ./.venv/lib/python3.10/site-packages (from gym) (2.2.6)\n",
      "Requirement already satisfied: gym_notices>=0.0.4 in ./.venv/lib/python3.10/site-packages (from gym) (0.0.8)\n",
      "\n",
      "\u001b[1m[\u001b[0m\u001b[34;49mnotice\u001b[0m\u001b[1;39;49m]\u001b[0m\u001b[39;49m A new release of pip is available: \u001b[0m\u001b[31;49m23.0.1\u001b[0m\u001b[39;49m -> \u001b[0m\u001b[32;49m25.1.1\u001b[0m\n",
      "\u001b[1m[\u001b[0m\u001b[34;49mnotice\u001b[0m\u001b[1;39;49m]\u001b[0m\u001b[39;49m To update, run: \u001b[0m\u001b[32;49mpip install --upgrade pip\u001b[0m\n",
      "Collecting numpy==1.24.4\n",
      "  Downloading numpy-1.24.4-cp310-cp310-manylinux_2_17_x86_64.manylinux2014_x86_64.whl (17.3 MB)\n",
      "\u001b[2K     \u001b[38;2;114;156;31m━━━━━━━━━━━━━━━━━━━━━━━━━━━━━━━━━━━━━━━━\u001b[0m \u001b[32m17.3/17.3 MB\u001b[0m \u001b[31m26.0 MB/s\u001b[0m eta \u001b[36m0:00:00\u001b[0mm eta \u001b[36m0:00:01\u001b[0m0:01\u001b[0m:01\u001b[0m\n",
      "\u001b[?25hInstalling collected packages: numpy\n",
      "  Attempting uninstall: numpy\n",
      "    Found existing installation: numpy 2.2.6\n",
      "    Uninstalling numpy-2.2.6:\n",
      "      Successfully uninstalled numpy-2.2.6\n",
      "Successfully installed numpy-1.24.4\n",
      "\n",
      "\u001b[1m[\u001b[0m\u001b[34;49mnotice\u001b[0m\u001b[1;39;49m]\u001b[0m\u001b[39;49m A new release of pip is available: \u001b[0m\u001b[31;49m23.0.1\u001b[0m\u001b[39;49m -> \u001b[0m\u001b[32;49m25.1.1\u001b[0m\n",
      "\u001b[1m[\u001b[0m\u001b[34;49mnotice\u001b[0m\u001b[1;39;49m]\u001b[0m\u001b[39;49m To update, run: \u001b[0m\u001b[32;49mpip install --upgrade pip\u001b[0m\n",
      "Requirement already satisfied: pygame in ./.venv/lib/python3.10/site-packages (2.6.1)\n",
      "\n",
      "\u001b[1m[\u001b[0m\u001b[34;49mnotice\u001b[0m\u001b[1;39;49m]\u001b[0m\u001b[39;49m A new release of pip is available: \u001b[0m\u001b[31;49m23.0.1\u001b[0m\u001b[39;49m -> \u001b[0m\u001b[32;49m25.1.1\u001b[0m\n",
      "\u001b[1m[\u001b[0m\u001b[34;49mnotice\u001b[0m\u001b[1;39;49m]\u001b[0m\u001b[39;49m To update, run: \u001b[0m\u001b[32;49mpip install --upgrade pip\u001b[0m\n"
     ]
    }
   ],
   "source": [
    "!pip install gym\n",
    "!pip install numpy==1.24.4\n",
    "!pip install pygame"
   ]
  },
  {
   "cell_type": "markdown",
   "metadata": {},
   "source": [
    "Run the below code in a script, using the command\n",
    "```\n",
    "LD_PRELOAD=/usr/lib/x86_64-linux-gnu/libstdc++.so.6 LIBGL_ALWAYS_SOFTWARE=1 ./.venv/bin/python3 cartpole.py\n",
    "```"
   ]
  },
  {
   "cell_type": "code",
   "execution_count": 3,
   "metadata": {},
   "outputs": [
    {
     "ename": "",
     "evalue": "",
     "output_type": "error",
     "traceback": [
      "\u001b[1;31mThe Kernel crashed while executing code in the current cell or a previous cell. \n",
      "\u001b[1;31mPlease review the code in the cell(s) to identify a possible cause of the failure. \n",
      "\u001b[1;31mClick <a href='https://aka.ms/vscodeJupyterKernelCrash'>here</a> for more info. \n",
      "\u001b[1;31mView Jupyter <a href='command:jupyter.viewOutput'>log</a> for further details."
     ]
    }
   ],
   "source": [
    "import gym\n",
    "import numpy as np\n",
    "import warnings\n",
    "\n",
    "# Suppress specific deprecation warnings\n",
    "warnings.filterwarnings(\"ignore\", category=DeprecationWarning)\n",
    "\n",
    "# Load the environment with render mode specified\n",
    "env = gym.make('CartPole-v1', render_mode=\"human\")\n",
    "\n",
    "# Initialize the environment to get the initial state\n",
    "state = env.reset()\n",
    "\n",
    "# Print the state space and action space\n",
    "print(\"State space:\", env.observation_space)\n",
    "print(\"Action space:\", env.action_space)\n",
    "\n",
    "# Run a few steps in the environment with random actions\n",
    "for _ in range(10):\n",
    "    env.render()  # Render the environment for visualization\n",
    "    action = env.action_space.sample()  # Take a random action\n",
    "    \n",
    "    # Take a step in the environment\n",
    "    step_result = env.step(action)\n",
    "    \n",
    "    # Check the number of values returned and unpack accordingly\n",
    "    if len(step_result) == 4:\n",
    "        next_state, reward, done, info = step_result\n",
    "        terminated = False\n",
    "    else:\n",
    "        next_state, reward, done, truncated, info = step_result\n",
    "        terminated = done or truncated\n",
    "    \n",
    "    print(f\"Action: {action}, Reward: {reward}, Next State: {next_state}, Done: {done}, Info: {info}\")\n",
    "    \n",
    "    if terminated:\n",
    "        state = env.reset()  # Reset the environment if the episode is finished\n",
    "\n",
    "env.close()  # Close the environment when done"
   ]
  },
  {
   "cell_type": "markdown",
   "metadata": {},
   "source": [
    "Sample output\n",
    "\n",
    "```\n",
    "LD_PRELOAD=/usr/lib/x86_64-linux-gnu/libstdc++.so.6 LIBGL_ALWAYS_SOFTWARE=1 ./.venv/bin/python3 cartpole.py                                                                    ─╯\n",
    "\n",
    "State space: Box([-4.8000002e+00 -3.4028235e+38 -4.1887903e-01 -3.4028235e+38], [4.8000002e+00 3.4028235e+38 4.1887903e-01 3.4028235e+38], (4,), float32)\n",
    "Action space: Discrete(2)\n",
    "Action: 1, Reward: 1.0, Next State: [ 0.04823348  0.20940262  0.03190996 -0.28013188], Done: False, Info: {}\n",
    "Action: 0, Reward: 1.0, Next State: [0.05242153 0.01384035 0.02630732 0.02244213], Done: False, Info: {}\n",
    "Action: 1, Reward: 1.0, Next State: [ 0.05269834  0.20857534  0.02675616 -0.26182583], Done: False, Info: {}\n",
    "Action: 0, Reward: 1.0, Next State: [0.05686984 0.01308188 0.02151965 0.03917479], Done: False, Info: {}\n",
    "Action: 1, Reward: 1.0, Next State: [ 0.05713148  0.20788874  0.02230314 -0.24664155], Done: False, Info: {}\n",
    "Action: 0, Reward: 1.0, Next State: [0.06128925 0.01245547 0.01737031 0.05299202], Done: False, Info: {}\n",
    "Action: 0, Reward: 1.0, Next State: [ 0.06153836 -0.18291119  0.01843015  0.3511044 ], Done: False, Info: {}\n",
    "Action: 1, Reward: 1.0, Next State: [0.05788014 0.01194388 0.02545224 0.06428961], Done: False, Info: {}\n",
    "Action: 1, Reward: 1.0, Next State: [ 0.05811902  0.20669185  0.02673803 -0.22025557], Done: False, Info: {}\n",
    "Action: 1, Reward: 1.0, Next State: [ 0.06225286  0.4014216   0.02233292 -0.50438577], Done: False, Info: {}\n",
    "```"
   ]
  },
  {
   "cell_type": "code",
   "execution_count": null,
   "metadata": {},
   "outputs": [],
   "source": []
  }
 ],
 "metadata": {
  "kernelspec": {
   "display_name": ".venv",
   "language": "python",
   "name": "python3"
  },
  "language_info": {
   "codemirror_mode": {
    "name": "ipython",
    "version": 3
   },
   "file_extension": ".py",
   "mimetype": "text/x-python",
   "name": "python",
   "nbconvert_exporter": "python",
   "pygments_lexer": "ipython3",
   "version": "3.10.15"
  }
 },
 "nbformat": 4,
 "nbformat_minor": 2
}
